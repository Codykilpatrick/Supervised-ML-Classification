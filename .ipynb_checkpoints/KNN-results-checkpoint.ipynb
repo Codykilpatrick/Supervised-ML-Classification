{
 "cells": [
  {
   "cell_type": "code",
   "execution_count": 1,
   "id": "de078070",
   "metadata": {},
   "outputs": [],
   "source": [
    "import seaborn as sns, pandas as pd, numpy as np\n",
    "from sklearn.neighbors import KNeighborsClassifier\n",
    "from sklearn import metrics"
   ]
  },
  {
   "cell_type": "code",
   "execution_count": 2,
   "id": "4ddd68a3",
   "metadata": {},
   "outputs": [],
   "source": [
    "data = pd.read_csv(\"data/classdata-fixed.csv\")"
   ]
  },
  {
   "cell_type": "code",
   "execution_count": 3,
   "id": "66ebfdab",
   "metadata": {},
   "outputs": [],
   "source": [
    "data = data.drop( 'Unnamed: 0', axis='columns')"
   ]
  },
  {
   "cell_type": "code",
   "execution_count": 4,
   "id": "8617aa68",
   "metadata": {},
   "outputs": [
    {
     "data": {
      "text/html": [
       "<div>\n",
       "<style scoped>\n",
       "    .dataframe tbody tr th:only-of-type {\n",
       "        vertical-align: middle;\n",
       "    }\n",
       "\n",
       "    .dataframe tbody tr th {\n",
       "        vertical-align: top;\n",
       "    }\n",
       "\n",
       "    .dataframe thead th {\n",
       "        text-align: right;\n",
       "    }\n",
       "</style>\n",
       "<table border=\"1\" class=\"dataframe\">\n",
       "  <thead>\n",
       "    <tr style=\"text-align: right;\">\n",
       "      <th></th>\n",
       "      <th>Ia</th>\n",
       "      <th>Ib</th>\n",
       "      <th>Ic</th>\n",
       "      <th>Va</th>\n",
       "      <th>Vb</th>\n",
       "      <th>Vc</th>\n",
       "      <th>fault</th>\n",
       "    </tr>\n",
       "  </thead>\n",
       "  <tbody>\n",
       "    <tr>\n",
       "      <th>0</th>\n",
       "      <td>-151.291812</td>\n",
       "      <td>-9.677452</td>\n",
       "      <td>85.800162</td>\n",
       "      <td>0.400750</td>\n",
       "      <td>-0.132935</td>\n",
       "      <td>-0.267815</td>\n",
       "      <td>1001</td>\n",
       "    </tr>\n",
       "    <tr>\n",
       "      <th>1</th>\n",
       "      <td>-336.186183</td>\n",
       "      <td>-76.283262</td>\n",
       "      <td>18.328897</td>\n",
       "      <td>0.312732</td>\n",
       "      <td>-0.123633</td>\n",
       "      <td>-0.189099</td>\n",
       "      <td>1001</td>\n",
       "    </tr>\n",
       "    <tr>\n",
       "      <th>2</th>\n",
       "      <td>-502.891583</td>\n",
       "      <td>-174.648023</td>\n",
       "      <td>-80.924663</td>\n",
       "      <td>0.265728</td>\n",
       "      <td>-0.114301</td>\n",
       "      <td>-0.151428</td>\n",
       "      <td>1001</td>\n",
       "    </tr>\n",
       "    <tr>\n",
       "      <th>3</th>\n",
       "      <td>-593.941905</td>\n",
       "      <td>-217.703359</td>\n",
       "      <td>-124.891924</td>\n",
       "      <td>0.235511</td>\n",
       "      <td>-0.104940</td>\n",
       "      <td>-0.130570</td>\n",
       "      <td>1001</td>\n",
       "    </tr>\n",
       "    <tr>\n",
       "      <th>4</th>\n",
       "      <td>-643.663617</td>\n",
       "      <td>-224.159427</td>\n",
       "      <td>-132.282815</td>\n",
       "      <td>0.209537</td>\n",
       "      <td>-0.095554</td>\n",
       "      <td>-0.113983</td>\n",
       "      <td>1001</td>\n",
       "    </tr>\n",
       "    <tr>\n",
       "      <th>...</th>\n",
       "      <td>...</td>\n",
       "      <td>...</td>\n",
       "      <td>...</td>\n",
       "      <td>...</td>\n",
       "      <td>...</td>\n",
       "      <td>...</td>\n",
       "      <td>...</td>\n",
       "    </tr>\n",
       "    <tr>\n",
       "      <th>7856</th>\n",
       "      <td>-66.237921</td>\n",
       "      <td>38.457041</td>\n",
       "      <td>24.912239</td>\n",
       "      <td>0.094421</td>\n",
       "      <td>-0.552019</td>\n",
       "      <td>0.457598</td>\n",
       "      <td>0</td>\n",
       "    </tr>\n",
       "    <tr>\n",
       "      <th>7857</th>\n",
       "      <td>-65.849493</td>\n",
       "      <td>37.465454</td>\n",
       "      <td>25.515675</td>\n",
       "      <td>0.103778</td>\n",
       "      <td>-0.555186</td>\n",
       "      <td>0.451407</td>\n",
       "      <td>0</td>\n",
       "    </tr>\n",
       "    <tr>\n",
       "      <th>7858</th>\n",
       "      <td>-65.446698</td>\n",
       "      <td>36.472055</td>\n",
       "      <td>26.106554</td>\n",
       "      <td>0.113107</td>\n",
       "      <td>-0.558211</td>\n",
       "      <td>0.445104</td>\n",
       "      <td>0</td>\n",
       "    </tr>\n",
       "    <tr>\n",
       "      <th>7859</th>\n",
       "      <td>-65.029633</td>\n",
       "      <td>35.477088</td>\n",
       "      <td>26.684731</td>\n",
       "      <td>0.122404</td>\n",
       "      <td>-0.561094</td>\n",
       "      <td>0.438690</td>\n",
       "      <td>0</td>\n",
       "    </tr>\n",
       "    <tr>\n",
       "      <th>7860</th>\n",
       "      <td>-64.598401</td>\n",
       "      <td>34.480799</td>\n",
       "      <td>27.250065</td>\n",
       "      <td>0.131669</td>\n",
       "      <td>-0.563835</td>\n",
       "      <td>0.432166</td>\n",
       "      <td>0</td>\n",
       "    </tr>\n",
       "  </tbody>\n",
       "</table>\n",
       "<p>7861 rows × 7 columns</p>\n",
       "</div>"
      ],
      "text/plain": [
       "              Ia          Ib          Ic        Va        Vb        Vc  fault\n",
       "0    -151.291812   -9.677452   85.800162  0.400750 -0.132935 -0.267815   1001\n",
       "1    -336.186183  -76.283262   18.328897  0.312732 -0.123633 -0.189099   1001\n",
       "2    -502.891583 -174.648023  -80.924663  0.265728 -0.114301 -0.151428   1001\n",
       "3    -593.941905 -217.703359 -124.891924  0.235511 -0.104940 -0.130570   1001\n",
       "4    -643.663617 -224.159427 -132.282815  0.209537 -0.095554 -0.113983   1001\n",
       "...          ...         ...         ...       ...       ...       ...    ...\n",
       "7856  -66.237921   38.457041   24.912239  0.094421 -0.552019  0.457598      0\n",
       "7857  -65.849493   37.465454   25.515675  0.103778 -0.555186  0.451407      0\n",
       "7858  -65.446698   36.472055   26.106554  0.113107 -0.558211  0.445104      0\n",
       "7859  -65.029633   35.477088   26.684731  0.122404 -0.561094  0.438690      0\n",
       "7860  -64.598401   34.480799   27.250065  0.131669 -0.563835  0.432166      0\n",
       "\n",
       "[7861 rows x 7 columns]"
      ]
     },
     "execution_count": 4,
     "metadata": {},
     "output_type": "execute_result"
    }
   ],
   "source": [
    "data"
   ]
  },
  {
   "cell_type": "code",
   "execution_count": 5,
   "id": "ca7b83cb",
   "metadata": {},
   "outputs": [],
   "source": [
    "fault1001 = data[data[\"fault\"]==1001]\n",
    "fault1011 = data[data[\"fault\"]==1011]\n",
    "fault0110 = data[data[\"fault\"]==110]\n",
    "fault0111 = data[data[\"fault\"]==111]\n",
    "fault1111 = data[data[\"fault\"]==1111]\n",
    "fault0 = data[data[\"fault\"]==0]"
   ]
  },
  {
   "cell_type": "code",
   "execution_count": 6,
   "id": "7a32c312",
   "metadata": {
    "scrolled": true
   },
   "outputs": [
    {
     "data": {
      "text/plain": [
       "<bound method NDFrame.head of              Ia         Ib         Ic        Va        Vb        Vc  fault\n",
       "5496  61.806321 -22.861987  21.102428  0.366320 -0.567179  0.200859      0\n",
       "5497  48.041678 -23.401108  21.273066  0.367341 -0.564257  0.196916      0\n",
       "5498  34.256533 -23.909263  21.408047  0.368258 -0.561168  0.192910      0\n",
       "5499  20.464350 -24.396165  21.501503  0.369086 -0.557916  0.188830      0\n",
       "5500   7.109677 -25.075888  21.341967  0.370321 -0.554505  0.184184      0\n",
       "...         ...        ...        ...       ...       ...       ...    ...\n",
       "7856 -66.237921  38.457041  24.912239  0.094421 -0.552019  0.457598      0\n",
       "7857 -65.849493  37.465454  25.515675  0.103778 -0.555186  0.451407      0\n",
       "7858 -65.446698  36.472055  26.106554  0.113107 -0.558211  0.445104      0\n",
       "7859 -65.029633  35.477088  26.684731  0.122404 -0.561094  0.438690      0\n",
       "7860 -64.598401  34.480799  27.250065  0.131669 -0.563835  0.432166      0\n",
       "\n",
       "[2365 rows x 7 columns]>"
      ]
     },
     "execution_count": 6,
     "metadata": {},
     "output_type": "execute_result"
    }
   ],
   "source": [
    "fault0.head"
   ]
  },
  {
   "cell_type": "code",
   "execution_count": 7,
   "id": "cb1f72e2",
   "metadata": {},
   "outputs": [],
   "source": [
    "import matplotlib.pyplot as plt\n",
    "%matplotlib inline"
   ]
  },
  {
   "cell_type": "code",
   "execution_count": 31,
   "id": "41879ccc",
   "metadata": {},
   "outputs": [
    {
     "data": {
      "text/plain": [
       "<matplotlib.collections.PathCollection at 0x1f01e5824a0>"
      ]
     },
     "execution_count": 31,
     "metadata": {},
     "output_type": "execute_result"
    },
    {
     "data": {
      "image/png": "[encoded data removed]",
      "text/plain": [
       "<Figure size 432x288 with 1 Axes>"
      ]
     },
     "metadata": {
      "needs_background": "light"
     },
     "output_type": "display_data"
    }
   ],
   "source": [
    "plt.xlabel('Ia')\n",
    "plt.ylabel('Ib')\n",
    "plt.scatter(fault0111['Ia'], fault0111['Ib'],color=\"green\",marker='+')\n",
    "plt.scatter(fault1111['Ia'], fault1111['Ib'],color=\"blue\",marker='.')"
   ]
  },
  {
   "cell_type": "code",
   "execution_count": 9,
   "id": "4e3d4f69",
   "metadata": {},
   "outputs": [],
   "source": [
    "# 5 neighbors seems to be the best at still 100%\n",
    "# 6 negibhbors shows 0.9996% accuracy\n",
    "# 11 neighbors shows also 0.9996%"
   ]
  },
  {
   "cell_type": "code",
   "execution_count": 10,
   "id": "c7e55ea5",
   "metadata": {},
   "outputs": [],
   "source": [
    "from sklearn.model_selection import train_test_split"
   ]
  },
  {
   "cell_type": "code",
   "execution_count": 11,
   "id": "d00a54b5",
   "metadata": {
    "scrolled": true
   },
   "outputs": [],
   "source": [
    "feature_cols = data.columns[:-1]\n",
    "from sklearn.model_selection import StratifiedShuffleSplit\n",
    "\n",
    "strat_shuf_split = StratifiedShuffleSplit(n_splits=1,\n",
    "                                         test_size=0.3,\n",
    "                                         random_state=13)\n",
    "\n",
    "train_idx, test_idx = next(strat_shuf_split.split(data[feature_cols], data.fault))\n",
    "\n",
    "X_train = data.loc[train_idx, feature_cols]\n",
    "y_train = data.loc[train_idx, 'fault']\n",
    "\n",
    "X_test = data.loc[test_idx, feature_cols]\n",
    "y_test = data.loc[test_idx, 'fault']"
   ]
  },
  {
   "cell_type": "code",
   "execution_count": 12,
   "id": "e18afc3a",
   "metadata": {},
   "outputs": [
    {
     "data": {
      "text/html": [
       "<div>\n",
       "<style scoped>\n",
       "    .dataframe tbody tr th:only-of-type {\n",
       "        vertical-align: middle;\n",
       "    }\n",
       "\n",
       "    .dataframe tbody tr th {\n",
       "        vertical-align: top;\n",
       "    }\n",
       "\n",
       "    .dataframe thead th {\n",
       "        text-align: right;\n",
       "    }\n",
       "</style>\n",
       "<table border=\"1\" class=\"dataframe\">\n",
       "  <thead>\n",
       "    <tr style=\"text-align: right;\">\n",
       "      <th></th>\n",
       "      <th>Ia</th>\n",
       "      <th>Ib</th>\n",
       "      <th>Ic</th>\n",
       "      <th>Va</th>\n",
       "      <th>Vb</th>\n",
       "      <th>Vc</th>\n",
       "    </tr>\n",
       "  </thead>\n",
       "  <tbody>\n",
       "    <tr>\n",
       "      <th>6161</th>\n",
       "      <td>-37.709198</td>\n",
       "      <td>98.788101</td>\n",
       "      <td>-64.455039</td>\n",
       "      <td>-0.600534</td>\n",
       "      <td>0.181597</td>\n",
       "      <td>0.418938</td>\n",
       "    </tr>\n",
       "    <tr>\n",
       "      <th>342</th>\n",
       "      <td>-74.687919</td>\n",
       "      <td>-51.895067</td>\n",
       "      <td>49.567882</td>\n",
       "      <td>0.381840</td>\n",
       "      <td>-0.548580</td>\n",
       "      <td>0.166740</td>\n",
       "    </tr>\n",
       "    <tr>\n",
       "      <th>1364</th>\n",
       "      <td>872.348217</td>\n",
       "      <td>-477.672401</td>\n",
       "      <td>11.827999</td>\n",
       "      <td>0.018749</td>\n",
       "      <td>-0.287594</td>\n",
       "      <td>0.268845</td>\n",
       "    </tr>\n",
       "    <tr>\n",
       "      <th>5133</th>\n",
       "      <td>-440.454076</td>\n",
       "      <td>883.343053</td>\n",
       "      <td>-442.891240</td>\n",
       "      <td>0.022700</td>\n",
       "      <td>0.019633</td>\n",
       "      <td>-0.042333</td>\n",
       "    </tr>\n",
       "    <tr>\n",
       "      <th>310</th>\n",
       "      <td>356.075223</td>\n",
       "      <td>-22.281544</td>\n",
       "      <td>46.334163</td>\n",
       "      <td>0.321854</td>\n",
       "      <td>-0.604672</td>\n",
       "      <td>0.282817</td>\n",
       "    </tr>\n",
       "    <tr>\n",
       "      <th>...</th>\n",
       "      <td>...</td>\n",
       "      <td>...</td>\n",
       "      <td>...</td>\n",
       "      <td>...</td>\n",
       "      <td>...</td>\n",
       "      <td>...</td>\n",
       "    </tr>\n",
       "    <tr>\n",
       "      <th>7345</th>\n",
       "      <td>-21.781412</td>\n",
       "      <td>92.148342</td>\n",
       "      <td>-73.379962</td>\n",
       "      <td>-0.618634</td>\n",
       "      <td>0.319590</td>\n",
       "      <td>0.299043</td>\n",
       "    </tr>\n",
       "    <tr>\n",
       "      <th>6550</th>\n",
       "      <td>-27.231385</td>\n",
       "      <td>95.964644</td>\n",
       "      <td>-71.985515</td>\n",
       "      <td>-0.617587</td>\n",
       "      <td>0.278883</td>\n",
       "      <td>0.338704</td>\n",
       "    </tr>\n",
       "    <tr>\n",
       "      <th>4602</th>\n",
       "      <td>884.427831</td>\n",
       "      <td>-417.029381</td>\n",
       "      <td>-467.395200</td>\n",
       "      <td>0.021054</td>\n",
       "      <td>-0.042415</td>\n",
       "      <td>0.021361</td>\n",
       "    </tr>\n",
       "    <tr>\n",
       "      <th>1428</th>\n",
       "      <td>487.592534</td>\n",
       "      <td>380.006894</td>\n",
       "      <td>54.091190</td>\n",
       "      <td>0.042123</td>\n",
       "      <td>-0.359371</td>\n",
       "      <td>0.317248</td>\n",
       "    </tr>\n",
       "    <tr>\n",
       "      <th>5598</th>\n",
       "      <td>50.201163</td>\n",
       "      <td>-18.362002</td>\n",
       "      <td>-31.735232</td>\n",
       "      <td>0.390440</td>\n",
       "      <td>0.208581</td>\n",
       "      <td>-0.599021</td>\n",
       "    </tr>\n",
       "  </tbody>\n",
       "</table>\n",
       "<p>5502 rows × 6 columns</p>\n",
       "</div>"
      ],
      "text/plain": [
       "              Ia          Ib          Ic        Va        Vb        Vc\n",
       "6161  -37.709198   98.788101  -64.455039 -0.600534  0.181597  0.418938\n",
       "342   -74.687919  -51.895067   49.567882  0.381840 -0.548580  0.166740\n",
       "1364  872.348217 -477.672401   11.827999  0.018749 -0.287594  0.268845\n",
       "5133 -440.454076  883.343053 -442.891240  0.022700  0.019633 -0.042333\n",
       "310   356.075223  -22.281544   46.334163  0.321854 -0.604672  0.282817\n",
       "...          ...         ...         ...       ...       ...       ...\n",
       "7345  -21.781412   92.148342  -73.379962 -0.618634  0.319590  0.299043\n",
       "6550  -27.231385   95.964644  -71.985515 -0.617587  0.278883  0.338704\n",
       "4602  884.427831 -417.029381 -467.395200  0.021054 -0.042415  0.021361\n",
       "1428  487.592534  380.006894   54.091190  0.042123 -0.359371  0.317248\n",
       "5598   50.201163  -18.362002  -31.735232  0.390440  0.208581 -0.599021\n",
       "\n",
       "[5502 rows x 6 columns]"
      ]
     },
     "execution_count": 12,
     "metadata": {},
     "output_type": "execute_result"
    }
   ],
   "source": [
    "X_train"
   ]
  },
  {
   "cell_type": "code",
   "execution_count": 13,
   "id": "3097966e",
   "metadata": {},
   "outputs": [
    {
     "data": {
      "text/html": [
       "<style>#sk-container-id-1 {color: black;background-color: white;}#sk-container-id-1 pre{padding: 0;}#sk-container-id-1 div.sk-toggleable {background-color: white;}#sk-container-id-1 label.sk-toggleable__label {cursor: pointer;display: block;width: 100%;margin-bottom: 0;padding: 0.3em;box-sizing: border-box;text-align: center;}#sk-container-id-1 label.sk-toggleable__label-arrow:before {content: \"▸\";float: left;margin-right: 0.25em;color: #696969;}#sk-container-id-1 label.sk-toggleable__label-arrow:hover:before {color: black;}#sk-container-id-1 div.sk-estimator:hover label.sk-toggleable__label-arrow:before {color: black;}#sk-container-id-1 div.sk-toggleable__content {max-height: 0;max-width: 0;overflow: hidden;text-align: left;background-color: #f0f8ff;}#sk-container-id-1 div.sk-toggleable__content pre {margin: 0.2em;color: black;border-radius: 0.25em;background-color: #f0f8ff;}#sk-container-id-1 input.sk-toggleable__control:checked~div.sk-toggleable__content {max-height: 200px;max-width: 100%;overflow: auto;}#sk-container-id-1 input.sk-toggleable__control:checked~label.sk-toggleable__label-arrow:before {content: \"▾\";}#sk-container-id-1 div.sk-estimator input.sk-toggleable__control:checked~label.sk-toggleable__label {background-color: #d4ebff;}#sk-container-id-1 div.sk-label input.sk-toggleable__control:checked~label.sk-toggleable__label {background-color: #d4ebff;}#sk-container-id-1 input.sk-hidden--visually {border: 0;clip: rect(1px 1px 1px 1px);clip: rect(1px, 1px, 1px, 1px);height: 1px;margin: -1px;overflow: hidden;padding: 0;position: absolute;width: 1px;}#sk-container-id-1 div.sk-estimator {font-family: monospace;background-color: #f0f8ff;border: 1px dotted black;border-radius: 0.25em;box-sizing: border-box;margin-bottom: 0.5em;}#sk-container-id-1 div.sk-estimator:hover {background-color: #d4ebff;}#sk-container-id-1 div.sk-parallel-item::after {content: \"\";width: 100%;border-bottom: 1px solid gray;flex-grow: 1;}#sk-container-id-1 div.sk-label:hover label.sk-toggleable__label {background-color: #d4ebff;}#sk-container-id-1 div.sk-serial::before {content: \"\";position: absolute;border-left: 1px solid gray;box-sizing: border-box;top: 0;bottom: 0;left: 50%;z-index: 0;}#sk-container-id-1 div.sk-serial {display: flex;flex-direction: column;align-items: center;background-color: white;padding-right: 0.2em;padding-left: 0.2em;position: relative;}#sk-container-id-1 div.sk-item {position: relative;z-index: 1;}#sk-container-id-1 div.sk-parallel {display: flex;align-items: stretch;justify-content: center;background-color: white;position: relative;}#sk-container-id-1 div.sk-item::before, #sk-container-id-1 div.sk-parallel-item::before {content: \"\";position: absolute;border-left: 1px solid gray;box-sizing: border-box;top: 0;bottom: 0;left: 50%;z-index: -1;}#sk-container-id-1 div.sk-parallel-item {display: flex;flex-direction: column;z-index: 1;position: relative;background-color: white;}#sk-container-id-1 div.sk-parallel-item:first-child::after {align-self: flex-end;width: 50%;}#sk-container-id-1 div.sk-parallel-item:last-child::after {align-self: flex-start;width: 50%;}#sk-container-id-1 div.sk-parallel-item:only-child::after {width: 0;}#sk-container-id-1 div.sk-dashed-wrapped {border: 1px dashed gray;margin: 0 0.4em 0.5em 0.4em;box-sizing: border-box;padding-bottom: 0.4em;background-color: white;}#sk-container-id-1 div.sk-label label {font-family: monospace;font-weight: bold;display: inline-block;line-height: 1.2em;}#sk-container-id-1 div.sk-label-container {text-align: center;}#sk-container-id-1 div.sk-container {/* jupyter's `normalize.less` sets `[hidden] { display: none; }` but bootstrap.min.css set `[hidden] { display: none !important; }` so we also need the `!important` here to be able to override the default hidden behavior on the sphinx rendered scikit-learn.org. See: https://github.com/scikit-learn/scikit-learn/issues/21755 */display: inline-block !important;position: relative;}#sk-container-id-1 div.sk-text-repr-fallback {display: none;}</style><div id=\"sk-container-id-1\" class=\"sk-top-container\"><div class=\"sk-text-repr-fallback\"><pre>KNeighborsClassifier(n_neighbors=6)</pre><b>In a Jupyter environment, please rerun this cell to show the HTML representation or trust the notebook. <br />On GitHub, the HTML representation is unable to render, please try loading this page with nbviewer.org.</b></div><div class=\"sk-container\" hidden><div class=\"sk-item\"><div class=\"sk-estimator sk-toggleable\"><input class=\"sk-toggleable__control sk-hidden--visually\" id=\"sk-estimator-id-1\" type=\"checkbox\" checked><label for=\"sk-estimator-id-1\" class=\"sk-toggleable__label sk-toggleable__label-arrow\">KNeighborsClassifier</label><div class=\"sk-toggleable__content\"><pre>KNeighborsClassifier(n_neighbors=6)</pre></div></div></div></div></div>"
      ],
      "text/plain": [
       "KNeighborsClassifier(n_neighbors=6)"
      ]
     },
     "execution_count": 13,
     "metadata": {},
     "output_type": "execute_result"
    }
   ],
   "source": [
    "from sklearn.neighbors import KNeighborsClassifier\n",
    "knn = KNeighborsClassifier(n_neighbors=6)\n",
    "knn.fit(X_train, y_train)"
   ]
  },
  {
   "cell_type": "code",
   "execution_count": 14,
   "id": "a8ab4671",
   "metadata": {},
   "outputs": [
    {
     "data": {
      "text/plain": [
       "0.8291649003815176"
      ]
     },
     "execution_count": 14,
     "metadata": {},
     "output_type": "execute_result"
    }
   ],
   "source": [
    "knn.score(X_test, y_test)"
   ]
  },
  {
   "cell_type": "code",
   "execution_count": 15,
   "id": "64b97d36",
   "metadata": {},
   "outputs": [],
   "source": [
    "from sklearn.metrics import confusion_matrix\n",
    "\n",
    "y_pred = knn.predict(X_test)\n",
    "\n",
    "cm = confusion_matrix(y_test, y_pred)"
   ]
  },
  {
   "cell_type": "code",
   "execution_count": 16,
   "id": "ec98c0c5",
   "metadata": {},
   "outputs": [
    {
     "data": {
      "text/plain": [
       "Text(132.0, 0.5, 'Truth')"
      ]
     },
     "execution_count": 16,
     "metadata": {},
     "output_type": "execute_result"
    },
    {
     "data": {
      "image/png": "[encoded data removed]",
      "text/plain": [
       "<Figure size 1224x1080 with 2 Axes>"
      ]
     },
     "metadata": {
      "needs_background": "light"
     },
     "output_type": "display_data"
    }
   ],
   "source": [
    "%matplotlib inline\n",
    "import matplotlib.pyplot as plt\n",
    "import seaborn as sn\n",
    "plt.figure(figsize=(17,15))\n",
    "sn.heatmap(cm, annot=True)\n",
    "plt.xlabel('Predicted')\n",
    "plt.ylabel('Truth')"
   ]
  },
  {
   "cell_type": "code",
   "execution_count": 17,
   "id": "55cf3c2d",
   "metadata": {},
   "outputs": [
    {
     "name": "stdout",
     "output_type": "stream",
     "text": [
      "              precision    recall  f1-score   support\n",
      "\n",
      "           0       0.99      1.00      0.99       710\n",
      "         110       0.97      0.97      0.97       301\n",
      "         111       0.47      0.66      0.55       329\n",
      "        1001       0.95      0.99      0.97       339\n",
      "        1011       0.94      0.95      0.94       340\n",
      "        1111       0.42      0.23      0.30       340\n",
      "\n",
      "    accuracy                           0.83      2359\n",
      "   macro avg       0.79      0.80      0.79      2359\n",
      "weighted avg       0.82      0.83      0.82      2359\n",
      "\n"
     ]
    }
   ],
   "source": [
    "from sklearn.metrics import classification_report\n",
    "\n",
    "print(classification_report(y_test, y_pred))"
   ]
  }
 ],
 "metadata": {
  "kernelspec": {
   "display_name": "Python 3 (ipykernel)",
   "language": "python",
   "name": "python3"
  },
  "language_info": {
   "codemirror_mode": {
    "name": "ipython",
    "version": 3
   },
   "file_extension": ".py",
   "mimetype": "text/x-python",
   "name": "python",
   "nbconvert_exporter": "python",
   "pygments_lexer": "ipython3",
   "version": "3.10.4"
  }
 },
 "nbformat": 4,
 "nbformat_minor": 5
}
